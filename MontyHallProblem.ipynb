{
  "nbformat": 4,
  "nbformat_minor": 0,
  "metadata": {
    "colab": {
      "name": "MontyHallProblem",
      "provenance": []
    },
    "kernelspec": {
      "name": "python3",
      "display_name": "Python 3"
    },
    "language_info": {
      "name": "python"
    }
  },
  "cells": [
    {
      "cell_type": "markdown",
      "metadata": {
        "id": "JSKn6Nfb333O"
      },
      "source": [
        "# The Monty Hall Problem\n",
        "The monty hall problem consist of a tournament where there are 3 doors, one of these doors has a price (a new car) and the other 2 nothing. \n",
        "\n",
        "You are told that you can choose one of this doors, so yo make your decision and choose the door number 1. After this, 1 of the remaning 2 doors that you did not choose is opened; showing you that there is not a price. Then you are told that you can either stick or switch your door with the left one. What should you do?\n",
        "\n",
        "This famous problem shows us the potential of probabilities and how the information changing can help us to solve certain problems. In this case, and as we are going to see, the best option for us is to ALWAYS change or door."
      ]
    },
    {
      "cell_type": "code",
      "metadata": {
        "id": "bffvoJKd3hpF"
      },
      "source": [
        "import random\n",
        "import numpy as np"
      ],
      "execution_count": 4,
      "outputs": []
    },
    {
      "cell_type": "code",
      "metadata": {
        "colab": {
          "base_uri": "https://localhost:8080/"
        },
        "id": "rNaBtuGI4jqR",
        "outputId": "0203c46b-d856-40ca-f1e9-3ee2aa4f621f"
      },
      "source": [
        "doors = np.array([1,2,3])\n",
        "stick_wins = 0\n",
        "switch_wins = 0\n",
        "\n",
        "\n",
        "def stick(car, choose):\n",
        "  return choose\n",
        "\n",
        "def switch(car, choose):\n",
        "  if car == choose:\n",
        "    choose = doors[doors!=car][random.randint(0,1)]\n",
        "    return choose\n",
        "  else:\n",
        "    choose = car\n",
        "    return choose\n",
        "\n",
        "iter = 10000\n",
        "for i in range(iter):\n",
        "  car = random.randint(1, 3)\n",
        "  choose = random.randint(1, 3)\n",
        "  if stick(car,choose) == car:\n",
        "    stick_wins += 1\n",
        "  if switch(car,choose) == car:\n",
        "    switch_wins += 1\n",
        "\n",
        "print(stick_wins/iter)\n",
        "print(switch_wins/iter)\n",
        "\n"
      ],
      "execution_count": 33,
      "outputs": [
        {
          "output_type": "stream",
          "name": "stdout",
          "text": [
            "0.3257\n",
            "0.6743\n"
          ]
        }
      ]
    }
  ]
}